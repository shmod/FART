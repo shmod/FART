{
 "cells": [
  {
   "cell_type": "code",
   "execution_count": 68,
   "metadata": {
    "collapsed": false
   },
   "outputs": [
    {
     "ename": "ModuleNotFoundError",
     "evalue": "No module named 'scikit'",
     "output_type": "error",
     "traceback": [
      "\u001b[0;31m---------------------------------------------------------------------------\u001b[0m",
      "\u001b[0;31mModuleNotFoundError\u001b[0m                       Traceback (most recent call last)",
      "\u001b[0;32m<ipython-input-68-24b659903f05>\u001b[0m in \u001b[0;36m<module>\u001b[0;34m()\u001b[0m\n\u001b[1;32m      1\u001b[0m \u001b[0;32mimport\u001b[0m \u001b[0mnumpy\u001b[0m \u001b[0;32mas\u001b[0m \u001b[0mnp\u001b[0m\u001b[0;34m\u001b[0m\u001b[0m\n\u001b[1;32m      2\u001b[0m \u001b[0;32mimport\u001b[0m \u001b[0mmatplotlib\u001b[0m\u001b[0;34m.\u001b[0m\u001b[0mpyplot\u001b[0m \u001b[0;32mas\u001b[0m \u001b[0mplt\u001b[0m\u001b[0;34m\u001b[0m\u001b[0m\n\u001b[0;32m----> 3\u001b[0;31m \u001b[0;32mimport\u001b[0m \u001b[0mscikit\u001b[0m \u001b[0;32mas\u001b[0m \u001b[0msc\u001b[0m\u001b[0;34m\u001b[0m\u001b[0m\n\u001b[0m\u001b[1;32m      4\u001b[0m \u001b[0;34m\"\"\"The input vector is a 2 dimensional vector of size a*b where a is the number of samples and x is the features.\"\"\"\u001b[0m\u001b[0;34m\u001b[0m\u001b[0m\n\u001b[1;32m      5\u001b[0m \u001b[0;34m\u001b[0m\u001b[0m\n",
      "\u001b[0;31mModuleNotFoundError\u001b[0m: No module named 'scikit'"
     ]
    }
   ],
   "source": [
    "import numpy as np\n",
    "import matplotlib.pyplot as plt\n",
    "import scikit as sc\n",
    "\"\"\"The input vector is a 2 dimensional vector of size a*b where a is the number of samples and x is the features.\"\"\"\n",
    "\n",
    "\"\"\"Standardize data so that each feature has mean 0 and std 1. If the std along a column is 0 this function\n",
    "returns an error.\n",
    "X : Input data in the form of a vector\n",
    "\"\"\"\n",
    "def rescaleData(X):\n",
    "    s = std(X, axis = 0)\n",
    "    return (X-np.mean(X, axis = 0))/std(X, axis = 0)\n",
    "\n",
    "\n",
    "\"\"\"Rescale the data so that all values are between 0 and 1.\n",
    "X : Input data in the form of a vector\"\"\"\n",
    "def fuzzyEncoding(X):\n",
    "    l = np.min(X, axis = 0)\n",
    "    return (X-l)/(np.max(X, axis = 0) - l)\n",
    "\n",
    "\"\"\"Perform the fuzzy and operation that works by taking the minimum out of two values. \n",
    "E.g. FuzzyAnd(1,3) = 1 since 1<3.\n",
    "X,y : input in the form of a list\n",
    "\"\"\"\n",
    "def fuzzyAnd(X, Y):\n",
    "    return np.minimum(X, Y)\n",
    "    \n",
    "\"\"\"At each row X(j,:) of an input vector X (corresponding to a sample witha  set of feature) add\n",
    "the complement of the features such that X(j,:) = [X(j,:) (1-X(j,:))].\"\"\"\n",
    "def addComplement(X):\n",
    "    return np.hstack((X, 1-X))"
   ]
  },
  {
   "cell_type": "code",
   "execution_count": 67,
   "metadata": {
    "collapsed": false
   },
   "outputs": [
    {
     "name": "stdout",
     "output_type": "stream",
     "text": [
      "[[3 2 3]\n",
      " [3 2 3]]\n",
      "[[ 3  2  3 -2 -1 -2]\n",
      " [ 3  2  3 -2 -1 -2]]\n"
     ]
    }
   ],
   "source": []
  },
  {
   "cell_type": "code",
   "execution_count": null,
   "metadata": {
    "collapsed": true
   },
   "outputs": [],
   "source": []
  }
 ],
 "metadata": {
  "kernelspec": {
   "display_name": "Python 3",
   "language": "python",
   "name": "python3"
  },
  "language_info": {
   "codemirror_mode": {
    "name": "ipython",
    "version": 3
   },
   "file_extension": ".py",
   "mimetype": "text/x-python",
   "name": "python",
   "nbconvert_exporter": "python",
   "pygments_lexer": "ipython3",
   "version": "3.6.0"
  }
 },
 "nbformat": 4,
 "nbformat_minor": 2
}
